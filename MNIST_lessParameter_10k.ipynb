{
 "cells": [
  {
   "cell_type": "code",
   "execution_count": 1,
   "id": "obvious-villa",
   "metadata": {},
   "outputs": [],
   "source": [
    "import numpy as np\n",
    "import pandas as pd\n",
    "import matplotlib.pyplot as plt"
   ]
  },
  {
   "cell_type": "code",
   "execution_count": 2,
   "id": "dramatic-marks",
   "metadata": {},
   "outputs": [],
   "source": [
    "from keras.datasets import mnist"
   ]
  },
  {
   "cell_type": "code",
   "execution_count": 3,
   "id": "prospective-geography",
   "metadata": {},
   "outputs": [],
   "source": [
    "(x_train, y_train),(x_test, y_test) = mnist.load_data()"
   ]
  },
  {
   "cell_type": "code",
   "execution_count": 4,
   "id": "exposed-particular",
   "metadata": {},
   "outputs": [
    {
     "data": {
      "text/plain": [
       "(60000, 28, 28)"
      ]
     },
     "execution_count": 4,
     "metadata": {},
     "output_type": "execute_result"
    }
   ],
   "source": [
    "x_train.shape"
   ]
  },
  {
   "cell_type": "code",
   "execution_count": 5,
   "id": "verified-variance",
   "metadata": {},
   "outputs": [
    {
     "data": {
      "text/plain": [
       "<matplotlib.image.AxesImage at 0x7fa2f3c4f370>"
      ]
     },
     "execution_count": 5,
     "metadata": {},
     "output_type": "execute_result"
    },
    {
     "data": {
      "image/png": "[encoded data removed]",
      "text/plain": [
       "<Figure size 432x288 with 1 Axes>"
      ]
     },
     "metadata": {
      "needs_background": "light"
     },
     "output_type": "display_data"
    }
   ],
   "source": [
    "plt.imshow(x_train[0])"
   ]
  },
  {
   "cell_type": "code",
   "execution_count": 6,
   "id": "reduced-aviation",
   "metadata": {},
   "outputs": [
    {
     "data": {
      "text/plain": [
       "5"
      ]
     },
     "execution_count": 6,
     "metadata": {},
     "output_type": "execute_result"
    }
   ],
   "source": [
    "y_train[0]"
   ]
  },
  {
   "cell_type": "code",
   "execution_count": 7,
   "id": "extensive-paradise",
   "metadata": {},
   "outputs": [
    {
     "data": {
      "text/plain": [
       "(60000, 28, 28)"
      ]
     },
     "execution_count": 7,
     "metadata": {},
     "output_type": "execute_result"
    }
   ],
   "source": [
    "x_train.shape"
   ]
  },
  {
   "cell_type": "code",
   "execution_count": 8,
   "id": "scheduled-license",
   "metadata": {},
   "outputs": [
    {
     "data": {
      "text/plain": [
       "(60000,)"
      ]
     },
     "execution_count": 8,
     "metadata": {},
     "output_type": "execute_result"
    }
   ],
   "source": [
    "y_train.shape"
   ]
  },
  {
   "cell_type": "code",
   "execution_count": 9,
   "id": "civic-owner",
   "metadata": {},
   "outputs": [],
   "source": [
    "x_train = x_train.reshape(60000, 28, 28, 1)\n",
    "x_test  = x_test.reshape(10000, 28,28,1)"
   ]
  },
  {
   "cell_type": "code",
   "execution_count": 10,
   "id": "moderate-crash",
   "metadata": {},
   "outputs": [],
   "source": [
    "x_train = x_train.astype(\"float32\") /255 \n",
    "x_test = x_test.astype(\"float32\") / 255\n"
   ]
  },
  {
   "cell_type": "code",
   "execution_count": 11,
   "id": "compressed-cuisine",
   "metadata": {},
   "outputs": [
    {
     "data": {
      "text/plain": [
       "<matplotlib.image.AxesImage at 0x7fa3046db8e0>"
      ]
     },
     "execution_count": 11,
     "metadata": {},
     "output_type": "execute_result"
    },
    {
     "data": {
      "image/png": "[encoded data removed]",
      "text/plain": [
       "<Figure size 432x288 with 1 Axes>"
      ]
     },
     "metadata": {
      "needs_background": "light"
     },
     "output_type": "display_data"
    }
   ],
   "source": [
    "plt.imshow(x_train[0])"
   ]
  },
  {
   "cell_type": "code",
   "execution_count": 12,
   "id": "stable-federation",
   "metadata": {},
   "outputs": [
    {
     "data": {
      "text/plain": [
       "<matplotlib.image.AxesImage at 0x7fa2f5261790>"
      ]
     },
     "execution_count": 12,
     "metadata": {},
     "output_type": "execute_result"
    },
    {
     "data": {
      "image/png": "[encoded data removed]",
      "text/plain": [
       "<Figure size 432x288 with 1 Axes>"
      ]
     },
     "metadata": {
      "needs_background": "light"
     },
     "output_type": "display_data"
    }
   ],
   "source": [
    "plt.imshow(x_test[0])"
   ]
  },
  {
   "cell_type": "code",
   "execution_count": 13,
   "id": "conventional-alaska",
   "metadata": {},
   "outputs": [],
   "source": [
    "from keras.utils import to_categorical\n",
    "#one-hot encode target column\n",
    "y_train = to_categorical(y_train)\n",
    "y_test = to_categorical(y_test)"
   ]
  },
  {
   "cell_type": "code",
   "execution_count": null,
   "id": "pediatric-revolution",
   "metadata": {},
   "outputs": [],
   "source": [
    " "
   ]
  },
  {
   "cell_type": "code",
   "execution_count": 14,
   "id": "royal-performer",
   "metadata": {},
   "outputs": [
    {
     "data": {
      "text/plain": [
       "(10000, 10)"
      ]
     },
     "execution_count": 14,
     "metadata": {},
     "output_type": "execute_result"
    }
   ],
   "source": [
    "y_test.shape"
   ]
  },
  {
   "cell_type": "code",
   "execution_count": 15,
   "id": "essential-kelly",
   "metadata": {},
   "outputs": [
    {
     "data": {
      "text/plain": [
       "array([0., 0., 0., 0., 0., 1., 0., 0., 0., 0.], dtype=float32)"
      ]
     },
     "execution_count": 15,
     "metadata": {},
     "output_type": "execute_result"
    }
   ],
   "source": [
    "y_train[0]"
   ]
  },
  {
   "cell_type": "code",
   "execution_count": 260,
   "id": "thousand-breakdown",
   "metadata": {},
   "outputs": [],
   "source": [
    "from keras.models import Sequential\n",
    "from keras.layers import Conv2D,Dense,Flatten, MaxPooling2D, BatchNormalization, Dropout"
   ]
  },
  {
   "cell_type": "code",
   "execution_count": 261,
   "id": "secondary-national",
   "metadata": {},
   "outputs": [],
   "source": [
    "model = Sequential()"
   ]
  },
  {
   "cell_type": "code",
   "execution_count": 262,
   "id": "declared-labor",
   "metadata": {},
   "outputs": [],
   "source": [
    "input_shape = (28, 28, 1)"
   ]
  },
  {
   "cell_type": "code",
   "execution_count": 263,
   "id": "constant-hundred",
   "metadata": {},
   "outputs": [],
   "source": [
    "model.add(Conv2D(32, kernel_size=(3,3), activation=\"relu\", input_shape=input_shape,padding='same')) # parameter calculation filter * kernel size + bias ( bias is equal to the fitlers)\n",
    "#parametes1 = 32 *3 * 3 + 32\n",
    "#print(f\"parameter layer 1 {parametes1}\")\n",
    "model.add(BatchNormalization())\n",
    "model.add(MaxPooling2D(pool_size=(2,2)))\n",
    "model.add(Conv2D(8, kernel_size=(1*1), activation=\"relu\",padding='same'))\n",
    "model.add(Conv2D(8, kernel_size=(3*3), activation=\"relu\", padding='same'))\n",
    "model.add(Conv2D(4, kernel_size=(3*3), activation=\"relu\", padding='same'))\n",
    "model.add(BatchNormalization())\n",
    "model.add(Dropout(0.2))\n",
    "model.add(MaxPooling2D(pool_size=(2,2)))\n",
    "model.add(Conv2D(4, kernel_size=(1*1), activation=\"relu\"))\n",
    "model.add(Conv2D(4, kernel_size=(2*2), activation=\"relu\"))\n",
    "model.add(BatchNormalization())\n",
    "model.add(Conv2D(8, kernel_size=(2*2), activation=\"relu\"))\n",
    "#model.add(Dropout(0.5))\n",
    "\n",
    "#model.add(BatchNormalization())\n",
    " \n",
    "model.add(Flatten())\n",
    "model.add(Dense(10, activation='softmax'))"
   ]
  },
  {
   "cell_type": "code",
   "execution_count": 264,
   "id": "nasty-washington",
   "metadata": {},
   "outputs": [
    {
     "name": "stdout",
     "output_type": "stream",
     "text": [
      "Model: \"sequential_56\"\n",
      "_________________________________________________________________\n",
      "Layer (type)                 Output Shape              Param #   \n",
      "=================================================================\n",
      "conv2d_312 (Conv2D)          (None, 28, 28, 32)        320       \n",
      "_________________________________________________________________\n",
      "batch_normalization_161 (Bat (None, 28, 28, 32)        128       \n",
      "_________________________________________________________________\n",
      "max_pooling2d_106 (MaxPoolin (None, 14, 14, 32)        0         \n",
      "_________________________________________________________________\n",
      "conv2d_313 (Conv2D)          (None, 14, 14, 8)         264       \n",
      "_________________________________________________________________\n",
      "conv2d_314 (Conv2D)          (None, 14, 14, 8)         5192      \n",
      "_________________________________________________________________\n",
      "conv2d_315 (Conv2D)          (None, 14, 14, 4)         2596      \n",
      "_________________________________________________________________\n",
      "batch_normalization_162 (Bat (None, 14, 14, 4)         16        \n",
      "_________________________________________________________________\n",
      "dropout_77 (Dropout)         (None, 14, 14, 4)         0         \n",
      "_________________________________________________________________\n",
      "max_pooling2d_107 (MaxPoolin (None, 7, 7, 4)           0         \n",
      "_________________________________________________________________\n",
      "conv2d_316 (Conv2D)          (None, 7, 7, 4)           20        \n",
      "_________________________________________________________________\n",
      "conv2d_317 (Conv2D)          (None, 4, 4, 4)           260       \n",
      "_________________________________________________________________\n",
      "batch_normalization_163 (Bat (None, 4, 4, 4)           16        \n",
      "_________________________________________________________________\n",
      "conv2d_318 (Conv2D)          (None, 1, 1, 8)           520       \n",
      "_________________________________________________________________\n",
      "flatten_40 (Flatten)         (None, 8)                 0         \n",
      "_________________________________________________________________\n",
      "dense_40 (Dense)             (None, 10)                90        \n",
      "=================================================================\n",
      "Total params: 9,422\n",
      "Trainable params: 9,342\n",
      "Non-trainable params: 80\n",
      "_________________________________________________________________\n"
     ]
    }
   ],
   "source": [
    "model.summary()"
   ]
  },
  {
   "cell_type": "code",
   "execution_count": 265,
   "id": "animated-region",
   "metadata": {},
   "outputs": [],
   "source": [
    "model.compile(optimizer='RMSprop', loss='categorical_crossentropy', metrics=['accuracy'])\n"
   ]
  },
  {
   "cell_type": "code",
   "execution_count": 266,
   "id": "killing-guarantee",
   "metadata": {},
   "outputs": [
    {
     "name": "stdout",
     "output_type": "stream",
     "text": [
      "Epoch 1/30\n",
      "1875/1875 [==============================] - 100s 53ms/step - loss: 0.6276 - accuracy: 0.8109 - val_loss: 0.1027 - val_accuracy: 0.9694\n",
      "Epoch 2/30\n",
      "1875/1875 [==============================] - 92s 49ms/step - loss: 0.0897 - accuracy: 0.9734 - val_loss: 0.0637 - val_accuracy: 0.9814\n",
      "Epoch 3/30\n",
      "1875/1875 [==============================] - 88s 47ms/step - loss: 0.0660 - accuracy: 0.9810 - val_loss: 0.0562 - val_accuracy: 0.9814\n",
      "Epoch 4/30\n",
      "1875/1875 [==============================] - 84s 45ms/step - loss: 0.0564 - accuracy: 0.9823 - val_loss: 0.0487 - val_accuracy: 0.9859\n",
      "Epoch 5/30\n",
      "1875/1875 [==============================] - 86s 46ms/step - loss: 0.0477 - accuracy: 0.9861 - val_loss: 0.0493 - val_accuracy: 0.9836\n",
      "Epoch 6/30\n",
      "1875/1875 [==============================] - 92s 49ms/step - loss: 0.0439 - accuracy: 0.9861 - val_loss: 0.0520 - val_accuracy: 0.9841\n",
      "Epoch 7/30\n",
      "1875/1875 [==============================] - 89s 47ms/step - loss: 0.0362 - accuracy: 0.9890 - val_loss: 0.0392 - val_accuracy: 0.9878\n",
      "Epoch 8/30\n",
      "1875/1875 [==============================] - 87s 46ms/step - loss: 0.0357 - accuracy: 0.9887 - val_loss: 0.0425 - val_accuracy: 0.9874\n",
      "Epoch 9/30\n",
      "1875/1875 [==============================] - 77s 41ms/step - loss: 0.0345 - accuracy: 0.9899 - val_loss: 0.0456 - val_accuracy: 0.9858\n",
      "Epoch 10/30\n",
      "1875/1875 [==============================] - 89s 47ms/step - loss: 0.0287 - accuracy: 0.9912 - val_loss: 0.0379 - val_accuracy: 0.9885\n",
      "Epoch 11/30\n",
      "1875/1875 [==============================] - 90s 48ms/step - loss: 0.0276 - accuracy: 0.9917 - val_loss: 0.0371 - val_accuracy: 0.9890\n",
      "Epoch 12/30\n",
      "1875/1875 [==============================] - 97s 51ms/step - loss: 0.0276 - accuracy: 0.9911 - val_loss: 0.0452 - val_accuracy: 0.9864\n",
      "Epoch 13/30\n",
      "1875/1875 [==============================] - 100s 53ms/step - loss: 0.0250 - accuracy: 0.9915 - val_loss: 0.0327 - val_accuracy: 0.9899\n",
      "Epoch 14/30\n",
      "1875/1875 [==============================] - 103s 55ms/step - loss: 0.0220 - accuracy: 0.9932 - val_loss: 0.0480 - val_accuracy: 0.9852\n",
      "Epoch 15/30\n",
      "1875/1875 [==============================] - 87s 46ms/step - loss: 0.0231 - accuracy: 0.9926 - val_loss: 0.0448 - val_accuracy: 0.9875\n",
      "Epoch 16/30\n",
      "1875/1875 [==============================] - 92s 49ms/step - loss: 0.0211 - accuracy: 0.9935 - val_loss: 0.0363 - val_accuracy: 0.9893\n",
      "Epoch 17/30\n",
      "1875/1875 [==============================] - 90s 48ms/step - loss: 0.0212 - accuracy: 0.9929 - val_loss: 0.0330 - val_accuracy: 0.9908\n",
      "Epoch 18/30\n",
      "1875/1875 [==============================] - 84s 45ms/step - loss: 0.0206 - accuracy: 0.9939 - val_loss: 0.0469 - val_accuracy: 0.9867\n",
      "Epoch 19/30\n",
      "1875/1875 [==============================] - 84s 45ms/step - loss: 0.0199 - accuracy: 0.9934 - val_loss: 0.0331 - val_accuracy: 0.9903\n",
      "Epoch 20/30\n",
      "1875/1875 [==============================] - 87s 47ms/step - loss: 0.0182 - accuracy: 0.9943 - val_loss: 0.0330 - val_accuracy: 0.9903\n",
      "Epoch 21/30\n",
      "1875/1875 [==============================] - 81s 43ms/step - loss: 0.0167 - accuracy: 0.9946 - val_loss: 0.0347 - val_accuracy: 0.9902\n",
      "Epoch 22/30\n",
      "1875/1875 [==============================] - 111s 59ms/step - loss: 0.0177 - accuracy: 0.9942 - val_loss: 0.0392 - val_accuracy: 0.9891\n",
      "Epoch 23/30\n",
      "1875/1875 [==============================] - 97s 52ms/step - loss: 0.0180 - accuracy: 0.9938 - val_loss: 0.0565 - val_accuracy: 0.9854\n",
      "Epoch 24/30\n",
      "1875/1875 [==============================] - 93s 50ms/step - loss: 0.0159 - accuracy: 0.9946 - val_loss: 0.0402 - val_accuracy: 0.9887\n",
      "Epoch 25/30\n",
      "1875/1875 [==============================] - 87s 46ms/step - loss: 0.0153 - accuracy: 0.9951 - val_loss: 0.0393 - val_accuracy: 0.9896\n",
      "Epoch 26/30\n",
      "1875/1875 [==============================] - 88s 47ms/step - loss: 0.0154 - accuracy: 0.9951 - val_loss: 0.0403 - val_accuracy: 0.9883\n",
      "Epoch 27/30\n",
      "1875/1875 [==============================] - 91s 49ms/step - loss: 0.0140 - accuracy: 0.9953 - val_loss: 0.0393 - val_accuracy: 0.9899\n",
      "Epoch 28/30\n",
      "1875/1875 [==============================] - 102s 54ms/step - loss: 0.0162 - accuracy: 0.9949 - val_loss: 0.0436 - val_accuracy: 0.9887\n",
      "Epoch 29/30\n",
      "1875/1875 [==============================] - 93s 50ms/step - loss: 0.0145 - accuracy: 0.9953 - val_loss: 0.0419 - val_accuracy: 0.9897\n",
      "Epoch 30/30\n",
      "1875/1875 [==============================] - 88s 47ms/step - loss: 0.0161 - accuracy: 0.9952 - val_loss: 0.0383 - val_accuracy: 0.9910\n"
     ]
    },
    {
     "data": {
      "text/plain": [
       "<tensorflow.python.keras.callbacks.History at 0x7fa2b8517a00>"
      ]
     },
     "execution_count": 266,
     "metadata": {},
     "output_type": "execute_result"
    }
   ],
   "source": [
    "model.fit(x_train, y_train, validation_data=(x_test, y_test), epochs=30)"
   ]
  },
  {
   "cell_type": "code",
   "execution_count": null,
   "id": "starting-china",
   "metadata": {},
   "outputs": [],
   "source": []
  },
  {
   "cell_type": "code",
   "execution_count": null,
   "id": "individual-shoot",
   "metadata": {},
   "outputs": [],
   "source": []
  }
 ],
 "metadata": {
  "kernelspec": {
   "display_name": "Python 3",
   "language": "python",
   "name": "python3"
  },
  "language_info": {
   "codemirror_mode": {
    "name": "ipython",
    "version": 3
   },
   "file_extension": ".py",
   "mimetype": "text/x-python",
   "name": "python",
   "nbconvert_exporter": "python",
   "pygments_lexer": "ipython3",
   "version": "3.8.10"
  }
 },
 "nbformat": 4,
 "nbformat_minor": 5
}
